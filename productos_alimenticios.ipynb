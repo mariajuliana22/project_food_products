{
 "cells": [
  {
   "cell_type": "markdown",
   "id": "bb13da61",
   "metadata": {},
   "source": [
    "# Empresa emergente que vende productos alimenticios\n",
    "Se debe investigar el comportamiento del usuario para la aplicación de la empresa.\n",
    "\n",
    "Primero, se estudia el embudo de ventas. Se descubre cómo los usuarios y las usuarias llegan a la etapa de compra. ¿Cuántos usuarios o usuarias realmente llegan a esta etapa? ¿Cuántos se atascan en etapas anteriores? ¿Qué etapas en particular?.\n",
    "\n",
    "Luego, se observan los resultados de un test A/A/B. Al equipo de diseño le gustaría cambiar las fuentes de toda la aplicación, pero la gerencia teme que los usuarios y las usuarias piensen que el nuevo diseño es intimidante. Por ello, deciden tomar una decisión basada en los resultados de un test A/A/B.\n",
    "\n",
    "Los usuarios se dividen en tres grupos: dos grupos de control obtienen las fuentes antiguas y un grupo de prueba obtiene las nuevas. Se descubre qué conjunto de fuentes produce mejores resultados.\n",
    "\n",
    "Crear dos grupos A tiene ciertas ventajas. Se puede establecer el principio de que solo se confiara en la exactitud de las pruebas cuando los dos grupos de control sean similares. Si hay diferencias significativas entre los grupos A, esto puede ayudar a descubrir factores que pueden estar distorsionando los resultados. \n",
    "\n",
    "La comparación de grupos de control también dice cuánto tiempo y datos se necesitarán cuando se realicen más tests.\n",
    "\n",
    "Descripción de los datos\n",
    "Cada entrada de registro es una acción de usuario o un evento.\n",
    "- `EventName`: nombre del evento.\n",
    "- `DeviceIDHash`: identificador de usuario unívoco.\n",
    "- `EventTimestamp`: hora del evento.\n",
    "- `ExpId`: número de experimento: 246 y 247 son los grupos de control, 248 es el grupo de prueba.\n",
    "\n",
    "El proyecto se divide en 5 etapas:\n",
    "1. Abrir el archivo de datos y leer la información general\n",
    "2.  Preparar los datos para el análisis\n",
    "3. Estudiar y comprobar los datos\n",
    "4. Estudiar el embudo de eventos\n",
    "5. Estudiar los resultados del experimento"
   ]
  },
  {
   "cell_type": "markdown",
   "id": "20a8081e",
   "metadata": {},
   "source": [
    "## Abrir el archivo de datos y leer la información general"
   ]
  },
  {
   "cell_type": "code",
   "execution_count": 1,
   "id": "0bac6759",
   "metadata": {},
   "outputs": [],
   "source": [
    "#Importar librerias\n",
    "from datetime import datetime\n",
    "import pandas as pd\n",
    "import matplotlib.pyplot as plt\n",
    "from scipy import stats as st"
   ]
  },
  {
   "cell_type": "code",
   "execution_count": 2,
   "id": "80e73e82",
   "metadata": {},
   "outputs": [],
   "source": [
    "#Abrir archivo\n",
    "\n",
    "#Se especifica el separados ya que no es ','\n",
    "df = pd.read_csv('/datasets/logs_exp_us.csv', '\\t') "
   ]
  },
  {
   "cell_type": "code",
   "execution_count": 3,
   "id": "a2da47ed",
   "metadata": {},
   "outputs": [
    {
     "data": {
      "text/html": [
       "<div>\n",
       "<style scoped>\n",
       "    .dataframe tbody tr th:only-of-type {\n",
       "        vertical-align: middle;\n",
       "    }\n",
       "\n",
       "    .dataframe tbody tr th {\n",
       "        vertical-align: top;\n",
       "    }\n",
       "\n",
       "    .dataframe thead th {\n",
       "        text-align: right;\n",
       "    }\n",
       "</style>\n",
       "<table border=\"1\" class=\"dataframe\">\n",
       "  <thead>\n",
       "    <tr style=\"text-align: right;\">\n",
       "      <th></th>\n",
       "      <th>EventName</th>\n",
       "      <th>DeviceIDHash</th>\n",
       "      <th>EventTimestamp</th>\n",
       "      <th>ExpId</th>\n",
       "    </tr>\n",
       "  </thead>\n",
       "  <tbody>\n",
       "    <tr>\n",
       "      <th>0</th>\n",
       "      <td>MainScreenAppear</td>\n",
       "      <td>4575588528974610257</td>\n",
       "      <td>1564029816</td>\n",
       "      <td>246</td>\n",
       "    </tr>\n",
       "    <tr>\n",
       "      <th>1</th>\n",
       "      <td>MainScreenAppear</td>\n",
       "      <td>7416695313311560658</td>\n",
       "      <td>1564053102</td>\n",
       "      <td>246</td>\n",
       "    </tr>\n",
       "    <tr>\n",
       "      <th>2</th>\n",
       "      <td>PaymentScreenSuccessful</td>\n",
       "      <td>3518123091307005509</td>\n",
       "      <td>1564054127</td>\n",
       "      <td>248</td>\n",
       "    </tr>\n",
       "    <tr>\n",
       "      <th>3</th>\n",
       "      <td>CartScreenAppear</td>\n",
       "      <td>3518123091307005509</td>\n",
       "      <td>1564054127</td>\n",
       "      <td>248</td>\n",
       "    </tr>\n",
       "    <tr>\n",
       "      <th>4</th>\n",
       "      <td>PaymentScreenSuccessful</td>\n",
       "      <td>6217807653094995999</td>\n",
       "      <td>1564055322</td>\n",
       "      <td>248</td>\n",
       "    </tr>\n",
       "  </tbody>\n",
       "</table>\n",
       "</div>"
      ],
      "text/plain": [
       "                 EventName         DeviceIDHash  EventTimestamp  ExpId\n",
       "0         MainScreenAppear  4575588528974610257      1564029816    246\n",
       "1         MainScreenAppear  7416695313311560658      1564053102    246\n",
       "2  PaymentScreenSuccessful  3518123091307005509      1564054127    248\n",
       "3         CartScreenAppear  3518123091307005509      1564054127    248\n",
       "4  PaymentScreenSuccessful  6217807653094995999      1564055322    248"
      ]
     },
     "execution_count": 3,
     "metadata": {},
     "output_type": "execute_result"
    }
   ],
   "source": [
    "#Muestra de los datos\n",
    "df.head()"
   ]
  },
  {
   "cell_type": "code",
   "execution_count": 4,
   "id": "7cebd190",
   "metadata": {},
   "outputs": [
    {
     "name": "stdout",
     "output_type": "stream",
     "text": [
      "<class 'pandas.core.frame.DataFrame'>\n",
      "RangeIndex: 244126 entries, 0 to 244125\n",
      "Data columns (total 4 columns):\n",
      " #   Column          Non-Null Count   Dtype \n",
      "---  ------          --------------   ----- \n",
      " 0   EventName       244126 non-null  object\n",
      " 1   DeviceIDHash    244126 non-null  int64 \n",
      " 2   EventTimestamp  244126 non-null  int64 \n",
      " 3   ExpId           244126 non-null  int64 \n",
      "dtypes: int64(3), object(1)\n",
      "memory usage: 7.5+ MB\n"
     ]
    }
   ],
   "source": [
    "#Información general\n",
    "df.info()"
   ]
  },
  {
   "cell_type": "markdown",
   "id": "911b5341",
   "metadata": {},
   "source": [
    "Nombres de columnas se pueden mejorar, `EventTimestamp` se debe pasar al typo `datetime`, aparentemente no hay valores ausentes."
   ]
  },
  {
   "cell_type": "code",
   "execution_count": 5,
   "id": "f7db8424",
   "metadata": {},
   "outputs": [
    {
     "data": {
      "text/plain": [
       "Index(['event_name', 'device_id_hash', 'event_timestamp', 'exp_id'], dtype='object')"
      ]
     },
     "execution_count": 5,
     "metadata": {},
     "output_type": "execute_result"
    }
   ],
   "source": [
    "#Cambiar nombres columnas a formato snake_case\n",
    "new_col_names = []\n",
    "for old_names in df.columns: \n",
    "    name_lowered = old_names.lower()\n",
    "    new_col_names.append(name_lowered)\n",
    "\n",
    "df.columns = new_col_names\n",
    "\n",
    "columns_new = {'eventname': 'event_name', 'deviceidhash':'device_id_hash', 'eventtimestamp':'event_timestamp', 'expid': 'exp_id'}\n",
    "\n",
    "df.rename(columns = columns_new, inplace=True)\n",
    "\n",
    "#Verificar los cambios en los nombres\n",
    "df.columns"
   ]
  },
  {
   "cell_type": "markdown",
   "id": "2b5f4615",
   "metadata": {},
   "source": [
    "## Preparar los datos para el análisis"
   ]
  },
  {
   "cell_type": "code",
   "execution_count": 6,
   "id": "0bae46d5",
   "metadata": {},
   "outputs": [
    {
     "data": {
      "text/plain": [
       "413"
      ]
     },
     "execution_count": 6,
     "metadata": {},
     "output_type": "execute_result"
    }
   ],
   "source": [
    "#Verificar si hay valores duplicados\n",
    "df.duplicated().sum()"
   ]
  },
  {
   "cell_type": "markdown",
   "id": "3e4ed355",
   "metadata": {},
   "source": [
    "Hay `413` valores duplicados, así que se deben eliminar."
   ]
  },
  {
   "cell_type": "code",
   "execution_count": 7,
   "id": "3455c394",
   "metadata": {},
   "outputs": [
    {
     "data": {
      "text/plain": [
       "0"
      ]
     },
     "execution_count": 7,
     "metadata": {},
     "output_type": "execute_result"
    }
   ],
   "source": [
    "#Eliminar duplicados\n",
    "df.drop_duplicates(inplace=True)\n",
    "\n",
    "#Verificar que ya no haya suplicados\n",
    "df.duplicated().sum()"
   ]
  },
  {
   "cell_type": "code",
   "execution_count": 8,
   "id": "e71e2f89",
   "metadata": {},
   "outputs": [
    {
     "data": {
      "text/plain": [
       "event_name         0\n",
       "device_id_hash     0\n",
       "event_timestamp    0\n",
       "exp_id             0\n",
       "dtype: int64"
      ]
     },
     "execution_count": 8,
     "metadata": {},
     "output_type": "execute_result"
    }
   ],
   "source": [
    "#Verificar si hay valores ausentes\n",
    "df.isna().sum()"
   ]
  },
  {
   "cell_type": "code",
   "execution_count": 9,
   "id": "0bf28673",
   "metadata": {},
   "outputs": [
    {
     "data": {
      "text/html": [
       "<div>\n",
       "<style scoped>\n",
       "    .dataframe tbody tr th:only-of-type {\n",
       "        vertical-align: middle;\n",
       "    }\n",
       "\n",
       "    .dataframe tbody tr th {\n",
       "        vertical-align: top;\n",
       "    }\n",
       "\n",
       "    .dataframe thead th {\n",
       "        text-align: right;\n",
       "    }\n",
       "</style>\n",
       "<table border=\"1\" class=\"dataframe\">\n",
       "  <thead>\n",
       "    <tr style=\"text-align: right;\">\n",
       "      <th></th>\n",
       "      <th>event_name</th>\n",
       "      <th>device_id_hash</th>\n",
       "      <th>event_timestamp</th>\n",
       "      <th>exp_id</th>\n",
       "    </tr>\n",
       "  </thead>\n",
       "  <tbody>\n",
       "    <tr>\n",
       "      <th>0</th>\n",
       "      <td>MainScreenAppear</td>\n",
       "      <td>4575588528974610257</td>\n",
       "      <td>2019-07-25 04:43:36</td>\n",
       "      <td>246</td>\n",
       "    </tr>\n",
       "    <tr>\n",
       "      <th>1</th>\n",
       "      <td>MainScreenAppear</td>\n",
       "      <td>7416695313311560658</td>\n",
       "      <td>2019-07-25 11:11:42</td>\n",
       "      <td>246</td>\n",
       "    </tr>\n",
       "    <tr>\n",
       "      <th>2</th>\n",
       "      <td>PaymentScreenSuccessful</td>\n",
       "      <td>3518123091307005509</td>\n",
       "      <td>2019-07-25 11:28:47</td>\n",
       "      <td>248</td>\n",
       "    </tr>\n",
       "    <tr>\n",
       "      <th>3</th>\n",
       "      <td>CartScreenAppear</td>\n",
       "      <td>3518123091307005509</td>\n",
       "      <td>2019-07-25 11:28:47</td>\n",
       "      <td>248</td>\n",
       "    </tr>\n",
       "    <tr>\n",
       "      <th>4</th>\n",
       "      <td>PaymentScreenSuccessful</td>\n",
       "      <td>6217807653094995999</td>\n",
       "      <td>2019-07-25 11:48:42</td>\n",
       "      <td>248</td>\n",
       "    </tr>\n",
       "  </tbody>\n",
       "</table>\n",
       "</div>"
      ],
      "text/plain": [
       "                event_name       device_id_hash     event_timestamp  exp_id\n",
       "0         MainScreenAppear  4575588528974610257 2019-07-25 04:43:36     246\n",
       "1         MainScreenAppear  7416695313311560658 2019-07-25 11:11:42     246\n",
       "2  PaymentScreenSuccessful  3518123091307005509 2019-07-25 11:28:47     248\n",
       "3         CartScreenAppear  3518123091307005509 2019-07-25 11:28:47     248\n",
       "4  PaymentScreenSuccessful  6217807653094995999 2019-07-25 11:48:42     248"
      ]
     },
     "execution_count": 9,
     "metadata": {},
     "output_type": "execute_result"
    }
   ],
   "source": [
    "#Cambiar la hora del evento a datetime\n",
    "df['event_timestamp'] = df['event_timestamp'].apply(lambda x: datetime.fromtimestamp(x))\n",
    "df.head()"
   ]
  },
  {
   "cell_type": "code",
   "execution_count": 10,
   "id": "f31b7d1f",
   "metadata": {},
   "outputs": [
    {
     "data": {
      "text/html": [
       "<div>\n",
       "<style scoped>\n",
       "    .dataframe tbody tr th:only-of-type {\n",
       "        vertical-align: middle;\n",
       "    }\n",
       "\n",
       "    .dataframe tbody tr th {\n",
       "        vertical-align: top;\n",
       "    }\n",
       "\n",
       "    .dataframe thead th {\n",
       "        text-align: right;\n",
       "    }\n",
       "</style>\n",
       "<table border=\"1\" class=\"dataframe\">\n",
       "  <thead>\n",
       "    <tr style=\"text-align: right;\">\n",
       "      <th></th>\n",
       "      <th>event_name</th>\n",
       "      <th>device_id_hash</th>\n",
       "      <th>event_timestamp</th>\n",
       "      <th>exp_id</th>\n",
       "      <th>date</th>\n",
       "    </tr>\n",
       "  </thead>\n",
       "  <tbody>\n",
       "    <tr>\n",
       "      <th>0</th>\n",
       "      <td>MainScreenAppear</td>\n",
       "      <td>4575588528974610257</td>\n",
       "      <td>2019-07-25 04:43:36</td>\n",
       "      <td>246</td>\n",
       "      <td>2019-07-25</td>\n",
       "    </tr>\n",
       "    <tr>\n",
       "      <th>1</th>\n",
       "      <td>MainScreenAppear</td>\n",
       "      <td>7416695313311560658</td>\n",
       "      <td>2019-07-25 11:11:42</td>\n",
       "      <td>246</td>\n",
       "      <td>2019-07-25</td>\n",
       "    </tr>\n",
       "    <tr>\n",
       "      <th>2</th>\n",
       "      <td>PaymentScreenSuccessful</td>\n",
       "      <td>3518123091307005509</td>\n",
       "      <td>2019-07-25 11:28:47</td>\n",
       "      <td>248</td>\n",
       "      <td>2019-07-25</td>\n",
       "    </tr>\n",
       "    <tr>\n",
       "      <th>3</th>\n",
       "      <td>CartScreenAppear</td>\n",
       "      <td>3518123091307005509</td>\n",
       "      <td>2019-07-25 11:28:47</td>\n",
       "      <td>248</td>\n",
       "      <td>2019-07-25</td>\n",
       "    </tr>\n",
       "    <tr>\n",
       "      <th>4</th>\n",
       "      <td>PaymentScreenSuccessful</td>\n",
       "      <td>6217807653094995999</td>\n",
       "      <td>2019-07-25 11:48:42</td>\n",
       "      <td>248</td>\n",
       "      <td>2019-07-25</td>\n",
       "    </tr>\n",
       "  </tbody>\n",
       "</table>\n",
       "</div>"
      ],
      "text/plain": [
       "                event_name       device_id_hash     event_timestamp  exp_id  \\\n",
       "0         MainScreenAppear  4575588528974610257 2019-07-25 04:43:36     246   \n",
       "1         MainScreenAppear  7416695313311560658 2019-07-25 11:11:42     246   \n",
       "2  PaymentScreenSuccessful  3518123091307005509 2019-07-25 11:28:47     248   \n",
       "3         CartScreenAppear  3518123091307005509 2019-07-25 11:28:47     248   \n",
       "4  PaymentScreenSuccessful  6217807653094995999 2019-07-25 11:48:42     248   \n",
       "\n",
       "         date  \n",
       "0  2019-07-25  \n",
       "1  2019-07-25  \n",
       "2  2019-07-25  \n",
       "3  2019-07-25  \n",
       "4  2019-07-25  "
      ]
     },
     "execution_count": 10,
     "metadata": {},
     "output_type": "execute_result"
    }
   ],
   "source": [
    "#Crear una columna para la fecha\n",
    "df['date'] = df['event_timestamp'].dt.date\n",
    "df.head()"
   ]
  },
  {
   "cell_type": "markdown",
   "id": "f2ecb61f",
   "metadata": {},
   "source": [
    "## Estudiar y comprobar los datos"
   ]
  },
  {
   "cell_type": "code",
   "execution_count": 11,
   "id": "264571c5",
   "metadata": {},
   "outputs": [
    {
     "data": {
      "text/plain": [
       "5"
      ]
     },
     "execution_count": 11,
     "metadata": {},
     "output_type": "execute_result"
    }
   ],
   "source": [
    "#Contar los eventos únicos\n",
    "df['event_name'].nunique()"
   ]
  },
  {
   "cell_type": "markdown",
   "id": "6335d783",
   "metadata": {},
   "source": [
    "Hay `5` eventos en los registros."
   ]
  },
  {
   "cell_type": "code",
   "execution_count": 12,
   "id": "fe5f684a",
   "metadata": {},
   "outputs": [
    {
     "data": {
      "text/plain": [
       "7551"
      ]
     },
     "execution_count": 12,
     "metadata": {},
     "output_type": "execute_result"
    }
   ],
   "source": [
    "#Contar los usuarios únicos\n",
    "df['device_id_hash'].nunique()"
   ]
  },
  {
   "cell_type": "markdown",
   "id": "9a37fac4",
   "metadata": {},
   "source": [
    "Hay `7551` usuarios en los registros."
   ]
  },
  {
   "cell_type": "code",
   "execution_count": 13,
   "id": "e40c3929",
   "metadata": {},
   "outputs": [
    {
     "name": "stdout",
     "output_type": "stream",
     "text": [
      "Promedio grupo A: 32.214142225793495\n",
      "Promedio grupo B: 30.932539682539684\n",
      "Promedio grupo C: 33.66719118804091\n"
     ]
    }
   ],
   "source": [
    "#Obtener el promedio de eventos por usuario\n",
    "avr246 = df[df['exp_id'] == 246]\n",
    "avr247 = df[df['exp_id'] == 247]\n",
    "avr248 = df[df['exp_id'] == 248]\n",
    "\n",
    "avr_event_246 = avr246.groupby('device_id_hash')['event_name'].count().mean()\n",
    "avr_event_247 = avr247.groupby('device_id_hash')['event_name'].count().mean()\n",
    "avr_event_248 = avr248.groupby('device_id_hash')['event_name'].count().mean()\n",
    "\n",
    "print('Promedio grupo A:', avr_event_246)\n",
    "print('Promedio grupo B:', avr_event_247)\n",
    "print('Promedio grupo C:', avr_event_248)"
   ]
  },
  {
   "cell_type": "markdown",
   "id": "c2c72d77",
   "metadata": {},
   "source": [
    "El promedio de eventos por usuarios es ligeramente más alto para el `grupo de prueba`."
   ]
  },
  {
   "cell_type": "code",
   "execution_count": 14,
   "id": "527a8c31",
   "metadata": {},
   "outputs": [
    {
     "name": "stdout",
     "output_type": "stream",
     "text": [
      "Fecha mínima: 2019-07-25\n",
      "Fecha máxima: 2019-08-07\n"
     ]
    }
   ],
   "source": [
    "#Encontrar la fecha máxima y mínima\n",
    "print('Fecha mínima:', df['date'].min())\n",
    "print('Fecha máxima:', df['date'].max())"
   ]
  },
  {
   "cell_type": "markdown",
   "id": "3841ecd7",
   "metadata": {},
   "source": [
    "El periodo de tiempo que cubren los datos son los últimos días de `julio` y la primera semana de `agosto`."
   ]
  },
  {
   "cell_type": "code",
   "execution_count": 15,
   "id": "e3f3d7f4",
   "metadata": {},
   "outputs": [
    {
     "data": {
      "image/png": "[encoded data removed]",
      "text/plain": [
       "<Figure size 640x480 with 1 Axes>"
      ]
     },
     "metadata": {},
     "output_type": "display_data"
    }
   ],
   "source": [
    "#Traza un histograma por fecha y hora\n",
    "plt.hist(df['event_timestamp'], bins=20, edgecolor='black')\n",
    "\n",
    "# Agregar títulos y etiquetas\n",
    "plt.title('Histograma de Eventos por Fecha y Hora')\n",
    "plt.xlabel('Fecha y Hora')\n",
    "plt.ylabel('Frecuencia')\n",
    "\n",
    "# Mostrar el gráfico\n",
    "plt.xticks(rotation=45)  # Rotar las etiquetas del eje x para mejor legibilidad\n",
    "plt.show()"
   ]
  },
  {
   "cell_type": "markdown",
   "id": "4ccea5d7",
   "metadata": {},
   "source": [
    "En este caso tenemos una asimetría positiva. La actividad de los usuarios es casi nula en julio y en agosto va de `15000` eventos para arriba.\n",
    "\n",
    "Por lo anterior, no se puede tener seguridad de que los datos están igualmente completos para todo el periodo. Así que se van a ignorar los datos de julio y se van a considerar solo a partir de `agosto`. "
   ]
  },
  {
   "cell_type": "code",
   "execution_count": 16,
   "id": "0e1bc68b",
   "metadata": {},
   "outputs": [
    {
     "name": "stdout",
     "output_type": "stream",
     "text": [
      "<class 'pandas.core.frame.DataFrame'>\n",
      "Int64Index: 242917 entries, 797 to 244125\n",
      "Data columns (total 5 columns):\n",
      " #   Column           Non-Null Count   Dtype         \n",
      "---  ------           --------------   -----         \n",
      " 0   event_name       242917 non-null  object        \n",
      " 1   device_id_hash   242917 non-null  int64         \n",
      " 2   event_timestamp  242917 non-null  datetime64[ns]\n",
      " 3   exp_id           242917 non-null  int64         \n",
      " 4   date             242917 non-null  object        \n",
      "dtypes: datetime64[ns](1), int64(2), object(2)\n",
      "memory usage: 11.1+ MB\n"
     ]
    }
   ],
   "source": [
    "#Filtrar los datos par las fechas en las que están completos\n",
    "limit_date = pd.to_datetime('2019-07-31')\n",
    "df = df[df['event_timestamp'] > limit_date]\n",
    "df.info()"
   ]
  },
  {
   "cell_type": "markdown",
   "id": "477c3e00",
   "metadata": {},
   "source": [
    "Se perdieron `796` datos al excluir los datos más antiguos."
   ]
  },
  {
   "cell_type": "markdown",
   "id": "c816ce80",
   "metadata": {},
   "source": [
    "### Verificar que se tienen usuarios y usuarias de los tres grupos experimentales"
   ]
  },
  {
   "cell_type": "code",
   "execution_count": 17,
   "id": "1b44955d",
   "metadata": {},
   "outputs": [
    {
     "data": {
      "text/plain": [
       "array([247, 248, 246])"
      ]
     },
     "execution_count": 17,
     "metadata": {},
     "output_type": "execute_result"
    }
   ],
   "source": [
    "#Verificar los valores de número de experimento \n",
    "df['exp_id'].unique()"
   ]
  },
  {
   "cell_type": "markdown",
   "id": "811fd32f",
   "metadata": {},
   "source": [
    "Aún se cuenta con usuarios en los 3 grupos. 246 y 247 son los grupos de control, 248 es el grupo de prueba."
   ]
  },
  {
   "cell_type": "markdown",
   "id": "80b7bca6",
   "metadata": {},
   "source": [
    "## Estudiar el embudo de eventos"
   ]
  },
  {
   "cell_type": "markdown",
   "id": "8cb24e7f",
   "metadata": {},
   "source": [
    "### Frecuencia de suceso de los eventos"
   ]
  },
  {
   "cell_type": "code",
   "execution_count": 18,
   "id": "c61c5e2c",
   "metadata": {},
   "outputs": [
    {
     "data": {
      "text/html": [
       "<div>\n",
       "<style scoped>\n",
       "    .dataframe tbody tr th:only-of-type {\n",
       "        vertical-align: middle;\n",
       "    }\n",
       "\n",
       "    .dataframe tbody tr th {\n",
       "        vertical-align: top;\n",
       "    }\n",
       "\n",
       "    .dataframe thead th {\n",
       "        text-align: right;\n",
       "    }\n",
       "</style>\n",
       "<table border=\"1\" class=\"dataframe\">\n",
       "  <thead>\n",
       "    <tr style=\"text-align: right;\">\n",
       "      <th></th>\n",
       "      <th>event_name</th>\n",
       "      <th>frequency</th>\n",
       "    </tr>\n",
       "  </thead>\n",
       "  <tbody>\n",
       "    <tr>\n",
       "      <th>0</th>\n",
       "      <td>MainScreenAppear</td>\n",
       "      <td>118578</td>\n",
       "    </tr>\n",
       "    <tr>\n",
       "      <th>1</th>\n",
       "      <td>OffersScreenAppear</td>\n",
       "      <td>46707</td>\n",
       "    </tr>\n",
       "    <tr>\n",
       "      <th>2</th>\n",
       "      <td>CartScreenAppear</td>\n",
       "      <td>42560</td>\n",
       "    </tr>\n",
       "    <tr>\n",
       "      <th>3</th>\n",
       "      <td>PaymentScreenSuccessful</td>\n",
       "      <td>34058</td>\n",
       "    </tr>\n",
       "    <tr>\n",
       "      <th>4</th>\n",
       "      <td>Tutorial</td>\n",
       "      <td>1014</td>\n",
       "    </tr>\n",
       "  </tbody>\n",
       "</table>\n",
       "</div>"
      ],
      "text/plain": [
       "                event_name  frequency\n",
       "0         MainScreenAppear     118578\n",
       "1       OffersScreenAppear      46707\n",
       "2         CartScreenAppear      42560\n",
       "3  PaymentScreenSuccessful      34058\n",
       "4                 Tutorial       1014"
      ]
     },
     "execution_count": 18,
     "metadata": {},
     "output_type": "execute_result"
    }
   ],
   "source": [
    "#Se agrupa para contar la frecuencia de sucesos\n",
    "EventFreq = df.groupby('event_name')['event_name'].count().sort_values(ascending = False).reset_index(name='frequency')\n",
    "EventFreq"
   ]
  },
  {
   "cell_type": "markdown",
   "id": "448fd842",
   "metadata": {},
   "source": [
    "El evento que más ocurre es `pantalla principal`, seguido de `pantalla de ofertas`, seguido de `pantalla del carrito`, seguido de `pantalla de pago exitoso` y por último `tutorial`."
   ]
  },
  {
   "cell_type": "markdown",
   "id": "65f11d19",
   "metadata": {},
   "source": [
    "### Usuarios y usuarias que realizaron cada una de estas acciones"
   ]
  },
  {
   "cell_type": "code",
   "execution_count": 19,
   "id": "f085c0bb",
   "metadata": {},
   "outputs": [
    {
     "data": {
      "text/html": [
       "<div>\n",
       "<style scoped>\n",
       "    .dataframe tbody tr th:only-of-type {\n",
       "        vertical-align: middle;\n",
       "    }\n",
       "\n",
       "    .dataframe tbody tr th {\n",
       "        vertical-align: top;\n",
       "    }\n",
       "\n",
       "    .dataframe thead th {\n",
       "        text-align: right;\n",
       "    }\n",
       "</style>\n",
       "<table border=\"1\" class=\"dataframe\">\n",
       "  <thead>\n",
       "    <tr style=\"text-align: right;\">\n",
       "      <th></th>\n",
       "      <th>event_name</th>\n",
       "      <th>num_users</th>\n",
       "      <th>proportion_event</th>\n",
       "    </tr>\n",
       "  </thead>\n",
       "  <tbody>\n",
       "    <tr>\n",
       "      <th>0</th>\n",
       "      <td>MainScreenAppear</td>\n",
       "      <td>7429</td>\n",
       "      <td>0.985017</td>\n",
       "    </tr>\n",
       "    <tr>\n",
       "      <th>1</th>\n",
       "      <td>OffersScreenAppear</td>\n",
       "      <td>4606</td>\n",
       "      <td>0.610713</td>\n",
       "    </tr>\n",
       "    <tr>\n",
       "      <th>2</th>\n",
       "      <td>CartScreenAppear</td>\n",
       "      <td>3742</td>\n",
       "      <td>0.496155</td>\n",
       "    </tr>\n",
       "    <tr>\n",
       "      <th>3</th>\n",
       "      <td>PaymentScreenSuccessful</td>\n",
       "      <td>3542</td>\n",
       "      <td>0.469637</td>\n",
       "    </tr>\n",
       "    <tr>\n",
       "      <th>4</th>\n",
       "      <td>Tutorial</td>\n",
       "      <td>845</td>\n",
       "      <td>0.112039</td>\n",
       "    </tr>\n",
       "  </tbody>\n",
       "</table>\n",
       "</div>"
      ],
      "text/plain": [
       "                event_name  num_users  proportion_event\n",
       "0         MainScreenAppear       7429          0.985017\n",
       "1       OffersScreenAppear       4606          0.610713\n",
       "2         CartScreenAppear       3742          0.496155\n",
       "3  PaymentScreenSuccessful       3542          0.469637\n",
       "4                 Tutorial        845          0.112039"
      ]
     },
     "execution_count": 19,
     "metadata": {},
     "output_type": "execute_result"
    }
   ],
   "source": [
    "#Agrupar por EventName y contar usuarios únicos\n",
    "events_by_users = df.groupby('event_name')['device_id_hash'].nunique().sort_values(ascending = False).reset_index(name='num_users')\n",
    "\n",
    "#Calcular la proporción de usuarios que realizaron cada acción al menos una vez\n",
    "total_users = df['device_id_hash'].nunique()\n",
    "events_by_users['proportion_event'] = events_by_users['num_users'] / total_users\n",
    "\n",
    "#Ordenar por el número de usuarios\n",
    "events_by_users = events_by_users.sort_values(by='num_users', ascending=False)\n",
    "\n",
    "events_by_users"
   ]
  },
  {
   "cell_type": "markdown",
   "id": "c7453380",
   "metadata": {},
   "source": [
    "El `98%` de los usurios vio la `pantalla principal`, el `61%` la `pantalla de ofertas`, el `49%` la `pantalla del carrito`, el `46%` la `pantalla de pago exitoso` y por último el `11%` el `tutorial`."
   ]
  },
  {
   "cell_type": "markdown",
   "id": "62412d8d",
   "metadata": {},
   "source": [
    "### Proporción de usuarios y usuarias que pasan de una etapa a la siguiente"
   ]
  },
  {
   "cell_type": "code",
   "execution_count": 20,
   "id": "0e605357",
   "metadata": {},
   "outputs": [
    {
     "data": {
      "text/html": [
       "<div>\n",
       "<style scoped>\n",
       "    .dataframe tbody tr th:only-of-type {\n",
       "        vertical-align: middle;\n",
       "    }\n",
       "\n",
       "    .dataframe tbody tr th {\n",
       "        vertical-align: top;\n",
       "    }\n",
       "\n",
       "    .dataframe thead th {\n",
       "        text-align: right;\n",
       "    }\n",
       "</style>\n",
       "<table border=\"1\" class=\"dataframe\">\n",
       "  <thead>\n",
       "    <tr style=\"text-align: right;\">\n",
       "      <th></th>\n",
       "      <th>event_name</th>\n",
       "      <th>num_users</th>\n",
       "      <th>proportion_event</th>\n",
       "      <th>proportion_by_stage</th>\n",
       "    </tr>\n",
       "  </thead>\n",
       "  <tbody>\n",
       "    <tr>\n",
       "      <th>0</th>\n",
       "      <td>MainScreenAppear</td>\n",
       "      <td>7429</td>\n",
       "      <td>0.985017</td>\n",
       "      <td>NaN</td>\n",
       "    </tr>\n",
       "    <tr>\n",
       "      <th>1</th>\n",
       "      <td>OffersScreenAppear</td>\n",
       "      <td>4606</td>\n",
       "      <td>0.610713</td>\n",
       "      <td>0.620003</td>\n",
       "    </tr>\n",
       "    <tr>\n",
       "      <th>2</th>\n",
       "      <td>CartScreenAppear</td>\n",
       "      <td>3742</td>\n",
       "      <td>0.496155</td>\n",
       "      <td>0.812419</td>\n",
       "    </tr>\n",
       "    <tr>\n",
       "      <th>3</th>\n",
       "      <td>PaymentScreenSuccessful</td>\n",
       "      <td>3542</td>\n",
       "      <td>0.469637</td>\n",
       "      <td>0.946553</td>\n",
       "    </tr>\n",
       "    <tr>\n",
       "      <th>4</th>\n",
       "      <td>Tutorial</td>\n",
       "      <td>845</td>\n",
       "      <td>0.112039</td>\n",
       "      <td>0.238566</td>\n",
       "    </tr>\n",
       "  </tbody>\n",
       "</table>\n",
       "</div>"
      ],
      "text/plain": [
       "                event_name  num_users  proportion_event  proportion_by_stage\n",
       "0         MainScreenAppear       7429          0.985017                  NaN\n",
       "1       OffersScreenAppear       4606          0.610713             0.620003\n",
       "2         CartScreenAppear       3742          0.496155             0.812419\n",
       "3  PaymentScreenSuccessful       3542          0.469637             0.946553\n",
       "4                 Tutorial        845          0.112039             0.238566"
      ]
     },
     "execution_count": 20,
     "metadata": {},
     "output_type": "execute_result"
    }
   ],
   "source": [
    "#Calcular las proporciones de usuarios entre etapas\n",
    "events_by_users['proportion_by_stage'] = events_by_users['num_users'] / events_by_users['num_users'].shift(1)\n",
    "events_by_users"
   ]
  },
  {
   "cell_type": "markdown",
   "id": "b730b12a",
   "metadata": {},
   "source": [
    "Para `pantalla de ofertas`, solo un `62%` de usuarios pasaron de `pantalla principal` y para `tutorial`, solo un `23%` de usuarios pasaron de `pantalla de pago exitoso`. Sin embargo, es más relevante la caída de usuarios de `pantalla principal` a `pantalla de ofertas`, ya que los de `tutorial` ya hicieron una compra. \n",
    "\n",
    "El `94%` de usuarios que llegan al `carrito`, finalizan la compra. "
   ]
  },
  {
   "cell_type": "markdown",
   "id": "3d3baf32",
   "metadata": {},
   "source": [
    "### Porcentaje de usuarios y usuarias hace todo el viaje desde su primer evento hasta el pago"
   ]
  },
  {
   "cell_type": "code",
   "execution_count": 21,
   "id": "f5fd6771",
   "metadata": {},
   "outputs": [
    {
     "data": {
      "text/html": [
       "<div>\n",
       "<style scoped>\n",
       "    .dataframe tbody tr th:only-of-type {\n",
       "        vertical-align: middle;\n",
       "    }\n",
       "\n",
       "    .dataframe tbody tr th {\n",
       "        vertical-align: top;\n",
       "    }\n",
       "\n",
       "    .dataframe thead th {\n",
       "        text-align: right;\n",
       "    }\n",
       "</style>\n",
       "<table border=\"1\" class=\"dataframe\">\n",
       "  <thead>\n",
       "    <tr style=\"text-align: right;\">\n",
       "      <th></th>\n",
       "      <th>event_name</th>\n",
       "      <th>num_users</th>\n",
       "      <th>proportion_event</th>\n",
       "      <th>proportion_by_stage</th>\n",
       "      <th>proportion_final_stage</th>\n",
       "    </tr>\n",
       "  </thead>\n",
       "  <tbody>\n",
       "    <tr>\n",
       "      <th>0</th>\n",
       "      <td>MainScreenAppear</td>\n",
       "      <td>7429</td>\n",
       "      <td>0.985017</td>\n",
       "      <td>NaN</td>\n",
       "      <td>NaN</td>\n",
       "    </tr>\n",
       "    <tr>\n",
       "      <th>1</th>\n",
       "      <td>OffersScreenAppear</td>\n",
       "      <td>4606</td>\n",
       "      <td>0.610713</td>\n",
       "      <td>0.620003</td>\n",
       "      <td>NaN</td>\n",
       "    </tr>\n",
       "    <tr>\n",
       "      <th>2</th>\n",
       "      <td>CartScreenAppear</td>\n",
       "      <td>3742</td>\n",
       "      <td>0.496155</td>\n",
       "      <td>0.812419</td>\n",
       "      <td>NaN</td>\n",
       "    </tr>\n",
       "    <tr>\n",
       "      <th>3</th>\n",
       "      <td>PaymentScreenSuccessful</td>\n",
       "      <td>3542</td>\n",
       "      <td>0.469637</td>\n",
       "      <td>0.946553</td>\n",
       "      <td>NaN</td>\n",
       "    </tr>\n",
       "    <tr>\n",
       "      <th>4</th>\n",
       "      <td>Tutorial</td>\n",
       "      <td>845</td>\n",
       "      <td>0.112039</td>\n",
       "      <td>0.238566</td>\n",
       "      <td>0.113743</td>\n",
       "    </tr>\n",
       "  </tbody>\n",
       "</table>\n",
       "</div>"
      ],
      "text/plain": [
       "                event_name  num_users  proportion_event  proportion_by_stage  \\\n",
       "0         MainScreenAppear       7429          0.985017                  NaN   \n",
       "1       OffersScreenAppear       4606          0.610713             0.620003   \n",
       "2         CartScreenAppear       3742          0.496155             0.812419   \n",
       "3  PaymentScreenSuccessful       3542          0.469637             0.946553   \n",
       "4                 Tutorial        845          0.112039             0.238566   \n",
       "\n",
       "   proportion_final_stage  \n",
       "0                     NaN  \n",
       "1                     NaN  \n",
       "2                     NaN  \n",
       "3                     NaN  \n",
       "4                0.113743  "
      ]
     },
     "execution_count": 21,
     "metadata": {},
     "output_type": "execute_result"
    }
   ],
   "source": [
    "#Calcular las proporciones de usuarios de la etapa 1 a la 5\n",
    "events_by_users['proportion_final_stage'] = events_by_users['num_users'] / events_by_users['num_users'].shift(4)\n",
    "events_by_users"
   ]
  },
  {
   "cell_type": "markdown",
   "id": "fba48894",
   "metadata": {},
   "source": [
    "El porcentaje de usurarios que pasan de `pantalla principal` a `tutorial` solo es del 11%."
   ]
  },
  {
   "cell_type": "markdown",
   "id": "5b7a76d2",
   "metadata": {},
   "source": [
    "## Estudiar los resultados del experimento"
   ]
  },
  {
   "cell_type": "markdown",
   "id": "a7fd08a8",
   "metadata": {},
   "source": [
    "### Usuarios y usuarias hay en cada grupo"
   ]
  },
  {
   "cell_type": "code",
   "execution_count": 22,
   "id": "c0d90644",
   "metadata": {},
   "outputs": [
    {
     "data": {
      "text/html": [
       "<div>\n",
       "<style scoped>\n",
       "    .dataframe tbody tr th:only-of-type {\n",
       "        vertical-align: middle;\n",
       "    }\n",
       "\n",
       "    .dataframe tbody tr th {\n",
       "        vertical-align: top;\n",
       "    }\n",
       "\n",
       "    .dataframe thead th {\n",
       "        text-align: right;\n",
       "    }\n",
       "</style>\n",
       "<table border=\"1\" class=\"dataframe\">\n",
       "  <thead>\n",
       "    <tr style=\"text-align: right;\">\n",
       "      <th></th>\n",
       "      <th>exp_id</th>\n",
       "      <th>users_by_group</th>\n",
       "    </tr>\n",
       "  </thead>\n",
       "  <tbody>\n",
       "    <tr>\n",
       "      <th>0</th>\n",
       "      <td>246</td>\n",
       "      <td>2485</td>\n",
       "    </tr>\n",
       "    <tr>\n",
       "      <th>1</th>\n",
       "      <td>247</td>\n",
       "      <td>2517</td>\n",
       "    </tr>\n",
       "    <tr>\n",
       "      <th>2</th>\n",
       "      <td>248</td>\n",
       "      <td>2540</td>\n",
       "    </tr>\n",
       "  </tbody>\n",
       "</table>\n",
       "</div>"
      ],
      "text/plain": [
       "   exp_id  users_by_group\n",
       "0     246            2485\n",
       "1     247            2517\n",
       "2     248            2540"
      ]
     },
     "execution_count": 22,
     "metadata": {},
     "output_type": "execute_result"
    }
   ],
   "source": [
    "users_by_group = df.groupby('exp_id')['device_id_hash'].nunique().sort_values().reset_index(name='users_by_group')\n",
    "users_by_group"
   ]
  },
  {
   "cell_type": "markdown",
   "id": "599ff1fa",
   "metadata": {},
   "source": [
    "En los grupos de control `A` hay `2485` y `2517`, mientras que en el grupo de prueba `B` hay `2540`. Sería mejor si tosos los grupos tuvieran la misma cantidad de usuarios."
   ]
  },
  {
   "cell_type": "markdown",
   "id": "8a519046",
   "metadata": {},
   "source": [
    "### Diferencia estadísticamente significativa entre las muestras 246 y 247"
   ]
  },
  {
   "cell_type": "code",
   "execution_count": 23,
   "id": "2872c976",
   "metadata": {},
   "outputs": [
    {
     "name": "stdout",
     "output_type": "stream",
     "text": [
      "valor-p: 0.4514982465134316\n",
      "No se puede rechazar la hipótesis nula\n"
     ]
    }
   ],
   "source": [
    "#Filtrar por grupos de control 246 y 247\n",
    "a_246 = df[df['exp_id'] == 246]\n",
    "b_247 = df[df['exp_id'] == 247]\n",
    "\n",
    "#Comparar el número de eventos por usuario en cada grupo\n",
    "events_per_user_246 = a_246.groupby('device_id_hash').size()\n",
    "events_per_user_247 = b_247.groupby('device_id_hash').size()\n",
    "\n",
    "#Nivel de significancia\n",
    "alpha = 0.05\n",
    "\n",
    "#Realizar prueba t de Student\n",
    "result = st.ttest_ind(events_per_user_246, events_per_user_247, equal_var=False)\n",
    "\n",
    "print('valor-p:', result.pvalue)\n",
    "\n",
    "if result.pvalue < alpha:\n",
    "    print(\"Se rechaza la hipótesis nula\")\n",
    "else:\n",
    "    print(\"No se puede rechazar la hipótesis nula\")"
   ]
  },
  {
   "cell_type": "markdown",
   "id": "e281760c",
   "metadata": {},
   "source": [
    "A partir de la prueba de hipótesis `no se puede rechazar la hipótesis nula`, es decir: No hay una diferencia estadísticamente significativa entre los `grupos de control`."
   ]
  },
  {
   "cell_type": "markdown",
   "id": "a55d3cbc",
   "metadata": {},
   "source": [
    "### Grupos de control"
   ]
  },
  {
   "cell_type": "code",
   "execution_count": 24,
   "id": "6223f53c",
   "metadata": {},
   "outputs": [],
   "source": [
    "#Crear una función\n",
    "def mann_whitney(df, event, A, B, alpha=0.05):\n",
    "    \n",
    "    #Filtrar por el evento\n",
    "    event = df[df['event_name'] == event]\n",
    "    \n",
    "    #Filtrar grupos de control\n",
    "    e_246 = event[event['exp_id'] == A]\n",
    "    e_247 = event[event['exp_id'] == B]\n",
    "\n",
    "    #Comparar el número de eventos por usuario en cada grupo\n",
    "    users_246 = e_246.groupby('event_name')['device_id_hash'].nunique()\n",
    "    users_247 = e_247.groupby('event_name')['device_id_hash'].nunique()\n",
    "\n",
    "    print('Usuarios del grupo A:', users_246)\n",
    "    print()\n",
    "    print('Usuarios del grupo B:', users_247)\n",
    "    print()\n",
    "\n",
    "    #Calcular proporciones\n",
    "    users_event = event.groupby('event_name')['device_id_hash'].nunique()\n",
    "    proportion_a = (users_246 / users_event) * 100\n",
    "    proportion_b = (users_247 / users_event) * 100\n",
    "    print('Proporción grupo control A:', proportion_a)\n",
    "    print()\n",
    "    print('Proporción grupo control B:', proportion_b)\n",
    "    print()\n",
    "\n",
    "    #Realizar prueba de Mann-Whitney U\n",
    "    result = st.mannwhitneyu(users_246.values, users_247.values)\n",
    "\n",
    "    print('valor-p:', result.pvalue)\n",
    "    print()\n",
    "\n",
    "    if result.pvalue < alpha:\n",
    "        print(\"Se rechaza la hipótesis nula\")\n",
    "    else:\n",
    "        print(\"No se puede rechazar la hipótesis nula\")"
   ]
  },
  {
   "cell_type": "code",
   "execution_count": 25,
   "id": "f266355b",
   "metadata": {},
   "outputs": [
    {
     "name": "stdout",
     "output_type": "stream",
     "text": [
      "Usuarios del grupo A: event_name\n",
      "MainScreenAppear    2452\n",
      "Name: device_id_hash, dtype: int64\n",
      "\n",
      "Usuarios del grupo B: event_name\n",
      "MainScreenAppear    2479\n",
      "Name: device_id_hash, dtype: int64\n",
      "\n",
      "Proporción grupo control A: event_name\n",
      "MainScreenAppear    33.005788\n",
      "Name: device_id_hash, dtype: float64\n",
      "\n",
      "Proporción grupo control B: event_name\n",
      "MainScreenAppear    33.369229\n",
      "Name: device_id_hash, dtype: float64\n",
      "\n",
      "valor-p: 1.0\n",
      "\n",
      "No se puede rechazar la hipótesis nula\n"
     ]
    }
   ],
   "source": [
    "#Llamar a la función para el evento pantalla principal\n",
    "mann_whitney(df, 'MainScreenAppear', 246, 247)"
   ]
  },
  {
   "cell_type": "markdown",
   "id": "63c08679",
   "metadata": {},
   "source": [
    "Evento: `pantalla principal`\n",
    "- La diferencia de usuarios de ambos grupos es muy mínimo. Sin embargo, hay más usuarios en el `grupo B`.\n",
    "- La proporción de los grupos de control es `33%`.\n",
    "- A partir de la prueba de hipótesis `no se puede rechazar la hipótesis nula`, es decir: No se puede decir que haya una diferencia estadísticamente significativa entre los grupos `A` y `B`."
   ]
  },
  {
   "cell_type": "code",
   "execution_count": 26,
   "id": "713899cc",
   "metadata": {},
   "outputs": [
    {
     "name": "stdout",
     "output_type": "stream",
     "text": [
      "Usuarios del grupo A: event_name\n",
      "OffersScreenAppear    1544\n",
      "Name: device_id_hash, dtype: int64\n",
      "\n",
      "Usuarios del grupo B: event_name\n",
      "OffersScreenAppear    1526\n",
      "Name: device_id_hash, dtype: int64\n",
      "\n",
      "Proporción grupo control A: event_name\n",
      "OffersScreenAppear    33.521494\n",
      "Name: device_id_hash, dtype: float64\n",
      "\n",
      "Proporción grupo control B: event_name\n",
      "OffersScreenAppear    33.130699\n",
      "Name: device_id_hash, dtype: float64\n",
      "\n",
      "valor-p: 1.0\n",
      "\n",
      "No se puede rechazar la hipótesis nula\n"
     ]
    }
   ],
   "source": [
    "#Llamar a la función para el evento pantalla ofertas\n",
    "mann_whitney(df, 'OffersScreenAppear', 246, 247)"
   ]
  },
  {
   "cell_type": "markdown",
   "id": "bbcca514",
   "metadata": {},
   "source": [
    "Evento: `pantalla ofertas`\n",
    "- La diferencia de usuarios de ambos grupos es muy mínimo. Sin embargo, hay más usuarios en el `grupo A`.\n",
    "- La proporción de los grupos de control es `33%`.\n",
    "- A partir de la prueba de hipótesis `no se puede rechazar la hipótesis nula`, es decir: No se puede decir que haya una diferencia estadísticamente significativa entre los grupos `A` y `B`."
   ]
  },
  {
   "cell_type": "code",
   "execution_count": 27,
   "id": "aa8e34d3",
   "metadata": {},
   "outputs": [
    {
     "name": "stdout",
     "output_type": "stream",
     "text": [
      "Usuarios del grupo A: event_name\n",
      "CartScreenAppear    1267\n",
      "Name: device_id_hash, dtype: int64\n",
      "\n",
      "Usuarios del grupo B: event_name\n",
      "CartScreenAppear    1239\n",
      "Name: device_id_hash, dtype: int64\n",
      "\n",
      "Proporción grupo control A: event_name\n",
      "CartScreenAppear    33.858899\n",
      "Name: device_id_hash, dtype: float64\n",
      "\n",
      "Proporción grupo control B: event_name\n",
      "CartScreenAppear    33.110636\n",
      "Name: device_id_hash, dtype: float64\n",
      "\n",
      "valor-p: 1.0\n",
      "\n",
      "No se puede rechazar la hipótesis nula\n"
     ]
    }
   ],
   "source": [
    "#Llamar a la función para el evento pantalla del carrito\n",
    "mann_whitney(df, 'CartScreenAppear', 246, 247)"
   ]
  },
  {
   "cell_type": "markdown",
   "id": "c62069ac",
   "metadata": {},
   "source": [
    "Evento: `pantalla del carrito`\n",
    "- La diferencia de usuarios de ambos grupos es muy mínimo. Sin embargo, hay más usuarios en el `grupo A`.\n",
    "- La proporción de los grupos de control es `33%`.\n",
    "- A partir de la prueba de hipótesis `no se puede rechazar la hipótesis nula`, es decir: No se puede decir que haya una diferencia estadísticamente significativa entre los grupos `A` y `B`."
   ]
  },
  {
   "cell_type": "code",
   "execution_count": 28,
   "id": "3d31583d",
   "metadata": {},
   "outputs": [
    {
     "name": "stdout",
     "output_type": "stream",
     "text": [
      "Usuarios del grupo A: event_name\n",
      "PaymentScreenSuccessful    1200\n",
      "Name: device_id_hash, dtype: int64\n",
      "\n",
      "Usuarios del grupo B: event_name\n",
      "PaymentScreenSuccessful    1159\n",
      "Name: device_id_hash, dtype: int64\n",
      "\n",
      "Proporción grupo control A: event_name\n",
      "PaymentScreenSuccessful    33.879164\n",
      "Name: device_id_hash, dtype: float64\n",
      "\n",
      "Proporción grupo control B: event_name\n",
      "PaymentScreenSuccessful    32.721626\n",
      "Name: device_id_hash, dtype: float64\n",
      "\n",
      "valor-p: 1.0\n",
      "\n",
      "No se puede rechazar la hipótesis nula\n"
     ]
    }
   ],
   "source": [
    "#Llamar a la función para el evento pantalla de pago exitoso\n",
    "mann_whitney(df, 'PaymentScreenSuccessful', 246, 247)"
   ]
  },
  {
   "cell_type": "markdown",
   "id": "773e7cf7",
   "metadata": {},
   "source": [
    "Evento: `pantalla de pago exitosos`\n",
    "- La diferencia de usuarios de ambos grupos es muy mínimo. Sin embargo, hay más usuarios en el `grupo A`.\n",
    "- La proporción de `grupo A` es `33.87%` y del `grupo B` es `32.72%`.\n",
    "- A partir de la prueba de hipótesis `no se puede rechazar la hipótesis nula`, es decir: No se puede decir que haya una diferencia estadísticamente significativa entre los grupos `A` y `B`."
   ]
  },
  {
   "cell_type": "code",
   "execution_count": 29,
   "id": "fe7088c3",
   "metadata": {},
   "outputs": [
    {
     "name": "stdout",
     "output_type": "stream",
     "text": [
      "Usuarios del grupo A: event_name\n",
      "Tutorial    278\n",
      "Name: device_id_hash, dtype: int64\n",
      "\n",
      "Usuarios del grupo B: event_name\n",
      "Tutorial    285\n",
      "Name: device_id_hash, dtype: int64\n",
      "\n",
      "Proporción grupo control A: event_name\n",
      "Tutorial    32.899408\n",
      "Name: device_id_hash, dtype: float64\n",
      "\n",
      "Proporción grupo control B: event_name\n",
      "Tutorial    33.727811\n",
      "Name: device_id_hash, dtype: float64\n",
      "\n",
      "valor-p: 1.0\n",
      "\n",
      "No se puede rechazar la hipótesis nula\n"
     ]
    }
   ],
   "source": [
    "#Llamar a la función para el evento tutorial\n",
    "mann_whitney(df, 'Tutorial', 246, 247)"
   ]
  },
  {
   "cell_type": "markdown",
   "id": "7f5032f6",
   "metadata": {},
   "source": [
    "Evento: `tutorial`\n",
    "- La diferencia de usuarios de ambos grupos es muy mínimo. Sin embargo, hay más usuarios en el `grupo B`.\n",
    "- La proporción del `grupo A` es `32.89%` y del `grupo B` es `33.72%`.\n",
    "- A partir de la prueba de hipótesis `no se puede rechazar la hipótesis nula`, es decir: No se puede decir que haya una diferencia estadísticamente significativa entre los grupos `A` y `B`."
   ]
  },
  {
   "cell_type": "markdown",
   "id": "a3811c55",
   "metadata": {},
   "source": [
    "### Grupo de prueba"
   ]
  },
  {
   "cell_type": "markdown",
   "id": "78a11258",
   "metadata": {},
   "source": [
    "#### Grupo A y grupo C"
   ]
  },
  {
   "cell_type": "code",
   "execution_count": 30,
   "id": "8a4be9aa",
   "metadata": {},
   "outputs": [
    {
     "name": "stdout",
     "output_type": "stream",
     "text": [
      "Usuarios del grupo A: event_name\n",
      "MainScreenAppear    2452\n",
      "Name: device_id_hash, dtype: int64\n",
      "\n",
      "Usuarios del grupo B: event_name\n",
      "MainScreenAppear    2498\n",
      "Name: device_id_hash, dtype: int64\n",
      "\n",
      "Proporción grupo control A: event_name\n",
      "MainScreenAppear    33.005788\n",
      "Name: device_id_hash, dtype: float64\n",
      "\n",
      "Proporción grupo control B: event_name\n",
      "MainScreenAppear    33.624983\n",
      "Name: device_id_hash, dtype: float64\n",
      "\n",
      "valor-p: 1.0\n",
      "\n",
      "No se puede rechazar la hipótesis nula\n"
     ]
    }
   ],
   "source": [
    "#Llamar a la función para el evento pantalla principal (Grupo A y C)\n",
    "mann_whitney(df, 'MainScreenAppear', 246, 248)"
   ]
  },
  {
   "cell_type": "markdown",
   "id": "902815e8",
   "metadata": {},
   "source": [
    "Evento: `pantalla principal`\n",
    "\n",
    "- La diferencia de usuarios de ambos grupos es muy mínimo. Sin embargo, hay más usuarios en el `grupo C`.\n",
    "- La proporción del `grupo A` y `grupo C` es `33%`.\n",
    "- A partir de la prueba de hipótesis `no se puede rechazar la hipótesis nula`, es decir: No se puede decir que haya una diferencia estadísticamente significativa entre los grupos `A` y `C`."
   ]
  },
  {
   "cell_type": "code",
   "execution_count": 31,
   "id": "43e5b7d8",
   "metadata": {},
   "outputs": [
    {
     "name": "stdout",
     "output_type": "stream",
     "text": [
      "Usuarios del grupo A: event_name\n",
      "OffersScreenAppear    1544\n",
      "Name: device_id_hash, dtype: int64\n",
      "\n",
      "Usuarios del grupo B: event_name\n",
      "OffersScreenAppear    1536\n",
      "Name: device_id_hash, dtype: int64\n",
      "\n",
      "Proporción grupo control A: event_name\n",
      "OffersScreenAppear    33.521494\n",
      "Name: device_id_hash, dtype: float64\n",
      "\n",
      "Proporción grupo control B: event_name\n",
      "OffersScreenAppear    33.347807\n",
      "Name: device_id_hash, dtype: float64\n",
      "\n",
      "valor-p: 1.0\n",
      "\n",
      "No se puede rechazar la hipótesis nula\n"
     ]
    }
   ],
   "source": [
    "#Llamar a la función para el evento pantalla principal (Grupo A y C)\n",
    "mann_whitney(df, 'OffersScreenAppear', 246, 248)"
   ]
  },
  {
   "cell_type": "markdown",
   "id": "50e7c382",
   "metadata": {},
   "source": [
    "Evento: `pantalla de ofertas`\n",
    "\n",
    "- La diferencia de usuarios de ambos grupos es muy mínimo. Sin embargo, hay más usuarios en el `grupo A`.\n",
    "- La proporción del `grupo A` y `grupo C` es `33%`.\n",
    "- A partir de la prueba de hipótesis `no se puede rechazar la hipótesis nula`, es decir: No se puede decir que haya una diferencia estadísticamente significativa entre los grupos `A` y `C`."
   ]
  },
  {
   "cell_type": "code",
   "execution_count": 32,
   "id": "ba9be287",
   "metadata": {},
   "outputs": [
    {
     "name": "stdout",
     "output_type": "stream",
     "text": [
      "Usuarios del grupo A: event_name\n",
      "CartScreenAppear    1267\n",
      "Name: device_id_hash, dtype: int64\n",
      "\n",
      "Usuarios del grupo B: event_name\n",
      "CartScreenAppear    1236\n",
      "Name: device_id_hash, dtype: int64\n",
      "\n",
      "Proporción grupo control A: event_name\n",
      "CartScreenAppear    33.858899\n",
      "Name: device_id_hash, dtype: float64\n",
      "\n",
      "Proporción grupo control B: event_name\n",
      "CartScreenAppear    33.030465\n",
      "Name: device_id_hash, dtype: float64\n",
      "\n",
      "valor-p: 1.0\n",
      "\n",
      "No se puede rechazar la hipótesis nula\n"
     ]
    }
   ],
   "source": [
    "#Llamar a la función para el evento pantalla principal (Grupo A y C)\n",
    "mann_whitney(df, 'CartScreenAppear', 246, 248)"
   ]
  },
  {
   "cell_type": "markdown",
   "id": "d9920f2f",
   "metadata": {},
   "source": [
    "Evento: `pantalla del carrito`\n",
    "\n",
    "- La diferencia de usuarios de ambos grupos es muy mínimo. Sin embargo, hay más usuarios en el `grupo A`.\n",
    "- La proporción del `grupo A` y `grupo C` es `33%`.\n",
    "- A partir de la prueba de hipótesis `no se puede rechazar la hipótesis nula`, es decir: No se puede decir que haya una diferencia estadísticamente significativa entre los grupos `A` y `C`."
   ]
  },
  {
   "cell_type": "code",
   "execution_count": 33,
   "id": "ee858ccb",
   "metadata": {},
   "outputs": [
    {
     "name": "stdout",
     "output_type": "stream",
     "text": [
      "Usuarios del grupo A: event_name\n",
      "PaymentScreenSuccessful    1200\n",
      "Name: device_id_hash, dtype: int64\n",
      "\n",
      "Usuarios del grupo B: event_name\n",
      "PaymentScreenSuccessful    1183\n",
      "Name: device_id_hash, dtype: int64\n",
      "\n",
      "Proporción grupo control A: event_name\n",
      "PaymentScreenSuccessful    33.879164\n",
      "Name: device_id_hash, dtype: float64\n",
      "\n",
      "Proporción grupo control B: event_name\n",
      "PaymentScreenSuccessful    33.399209\n",
      "Name: device_id_hash, dtype: float64\n",
      "\n",
      "valor-p: 1.0\n",
      "\n",
      "No se puede rechazar la hipótesis nula\n"
     ]
    }
   ],
   "source": [
    "#Llamar a la función para el evento pantalla principal (Grupo A y C)\n",
    "mann_whitney(df, 'PaymentScreenSuccessful', 246, 248)"
   ]
  },
  {
   "cell_type": "markdown",
   "id": "7170b00d",
   "metadata": {},
   "source": [
    "Evento: `pantalla de pago exitoso`\n",
    "\n",
    "- La diferencia de usuarios de ambos grupos es muy mínimo. Sin embargo, hay más usuarios en el `grupo A`.\n",
    "- La proporción del `grupo A` y `grupo C` es `33%`.\n",
    "- A partir de la prueba de hipótesis `no se puede rechazar la hipótesis nula`, es decir: No se puede decir que haya una diferencia estadísticamente significativa entre los grupos `A` y `C`."
   ]
  },
  {
   "cell_type": "code",
   "execution_count": 34,
   "id": "1824731c",
   "metadata": {},
   "outputs": [
    {
     "name": "stdout",
     "output_type": "stream",
     "text": [
      "Usuarios del grupo A: event_name\n",
      "Tutorial    278\n",
      "Name: device_id_hash, dtype: int64\n",
      "\n",
      "Usuarios del grupo B: event_name\n",
      "Tutorial    282\n",
      "Name: device_id_hash, dtype: int64\n",
      "\n",
      "Proporción grupo control A: event_name\n",
      "Tutorial    32.899408\n",
      "Name: device_id_hash, dtype: float64\n",
      "\n",
      "Proporción grupo control B: event_name\n",
      "Tutorial    33.372781\n",
      "Name: device_id_hash, dtype: float64\n",
      "\n",
      "valor-p: 1.0\n",
      "\n",
      "No se puede rechazar la hipótesis nula\n"
     ]
    }
   ],
   "source": [
    "#Llamar a la función para el evento pantalla principal (Grupo A y C)\n",
    "mann_whitney(df, 'Tutorial', 246, 248)"
   ]
  },
  {
   "cell_type": "markdown",
   "id": "3f43a71e",
   "metadata": {},
   "source": [
    "Evento: `tutorial`\n",
    "\n",
    "- La diferencia de usuarios de ambos grupos es muy mínimo. Sin embargo, hay más usuarios en el `grupo C`.\n",
    "- La proporción del `grupo A` es `32.89%` y del `grupo C` es `33%`.\n",
    "- A partir de la prueba de hipótesis `no se puede rechazar la hipótesis nula`, es decir: No se puede decir que haya una diferencia estadísticamente significativa entre los grupos `A` y `C`."
   ]
  },
  {
   "cell_type": "markdown",
   "id": "7d23691c",
   "metadata": {},
   "source": [
    "#### Grupos B y grupo C"
   ]
  },
  {
   "cell_type": "code",
   "execution_count": 35,
   "id": "31f4c0bf",
   "metadata": {},
   "outputs": [
    {
     "name": "stdout",
     "output_type": "stream",
     "text": [
      "Usuarios del grupo A: event_name\n",
      "MainScreenAppear    2452\n",
      "Name: device_id_hash, dtype: int64\n",
      "\n",
      "Usuarios del grupo B: event_name\n",
      "MainScreenAppear    2498\n",
      "Name: device_id_hash, dtype: int64\n",
      "\n",
      "Proporción grupo control A: event_name\n",
      "MainScreenAppear    33.005788\n",
      "Name: device_id_hash, dtype: float64\n",
      "\n",
      "Proporción grupo control B: event_name\n",
      "MainScreenAppear    33.624983\n",
      "Name: device_id_hash, dtype: float64\n",
      "\n",
      "valor-p: 1.0\n",
      "\n",
      "No se puede rechazar la hipótesis nula\n"
     ]
    }
   ],
   "source": [
    "#Llamar a la función para el evento pantalla principal (Grupo B y C)\n",
    "mann_whitney(df, 'MainScreenAppear', 246, 248)"
   ]
  },
  {
   "cell_type": "markdown",
   "id": "950560d9",
   "metadata": {},
   "source": [
    "Evento: `pantalla princiapl`\n",
    "\n",
    "- La diferencia de usuarios de ambos grupos es muy mínimo. Sin embargo, hay más usuarios en el `grupo C`.\n",
    "- La proporción del `grupo B` y `grupo C` es `33%`.\n",
    "- A partir de la prueba de hipótesis `no se puede rechazar la hipótesis nula`, es decir: No se puede decir que haya una diferencia estadísticamente significativa entre los grupos `B` y `C`."
   ]
  },
  {
   "cell_type": "code",
   "execution_count": 36,
   "id": "3f23d2a6",
   "metadata": {},
   "outputs": [
    {
     "name": "stdout",
     "output_type": "stream",
     "text": [
      "Usuarios del grupo A: event_name\n",
      "OffersScreenAppear    1544\n",
      "Name: device_id_hash, dtype: int64\n",
      "\n",
      "Usuarios del grupo B: event_name\n",
      "OffersScreenAppear    1536\n",
      "Name: device_id_hash, dtype: int64\n",
      "\n",
      "Proporción grupo control A: event_name\n",
      "OffersScreenAppear    33.521494\n",
      "Name: device_id_hash, dtype: float64\n",
      "\n",
      "Proporción grupo control B: event_name\n",
      "OffersScreenAppear    33.347807\n",
      "Name: device_id_hash, dtype: float64\n",
      "\n",
      "valor-p: 1.0\n",
      "\n",
      "No se puede rechazar la hipótesis nula\n"
     ]
    }
   ],
   "source": [
    "#Llamar a la función para el evento pantalla de ofertas (Grupo B y C)\n",
    "mann_whitney(df, 'OffersScreenAppear', 246, 248)"
   ]
  },
  {
   "cell_type": "markdown",
   "id": "08ccf461",
   "metadata": {},
   "source": [
    "Evento: `pantalla de ofertas`\n",
    "\n",
    "- La diferencia de usuarios de ambos grupos es muy mínimo. Sin embargo, hay más usuarios en el `grupo B`.\n",
    "- La proporción del `grupo B` y `grupo C` es `33%`.\n",
    "- A partir de la prueba de hipótesis `no se puede rechazar la hipótesis nula`, es decir: No se puede decir que haya una diferencia estadísticamente significativa entre los grupos `B` y `C`."
   ]
  },
  {
   "cell_type": "code",
   "execution_count": 37,
   "id": "66184e95",
   "metadata": {},
   "outputs": [
    {
     "name": "stdout",
     "output_type": "stream",
     "text": [
      "Usuarios del grupo A: event_name\n",
      "CartScreenAppear    1267\n",
      "Name: device_id_hash, dtype: int64\n",
      "\n",
      "Usuarios del grupo B: event_name\n",
      "CartScreenAppear    1236\n",
      "Name: device_id_hash, dtype: int64\n",
      "\n",
      "Proporción grupo control A: event_name\n",
      "CartScreenAppear    33.858899\n",
      "Name: device_id_hash, dtype: float64\n",
      "\n",
      "Proporción grupo control B: event_name\n",
      "CartScreenAppear    33.030465\n",
      "Name: device_id_hash, dtype: float64\n",
      "\n",
      "valor-p: 1.0\n",
      "\n",
      "No se puede rechazar la hipótesis nula\n"
     ]
    }
   ],
   "source": [
    "#Llamar a la función para el evento pantalla del carrito (Grupo B y C)\n",
    "mann_whitney(df, 'CartScreenAppear', 246, 248)"
   ]
  },
  {
   "cell_type": "markdown",
   "id": "d3939677",
   "metadata": {},
   "source": [
    "Evento: `pantalla del carrito`\n",
    "\n",
    "- La diferencia de usuarios de ambos grupos es muy mínimo. Sin embargo, hay más usuarios en el `grupo B`.\n",
    "- La proporción del `grupo B` y `grupo C` es `33%`.\n",
    "- A partir de la prueba de hipótesis `no se puede rechazar la hipótesis nula`, es decir: No se puede decir que haya una diferencia estadísticamente significativa entre los grupos `B` y `C`."
   ]
  },
  {
   "cell_type": "code",
   "execution_count": 38,
   "id": "6a54df42",
   "metadata": {},
   "outputs": [
    {
     "name": "stdout",
     "output_type": "stream",
     "text": [
      "Usuarios del grupo A: event_name\n",
      "PaymentScreenSuccessful    1200\n",
      "Name: device_id_hash, dtype: int64\n",
      "\n",
      "Usuarios del grupo B: event_name\n",
      "PaymentScreenSuccessful    1183\n",
      "Name: device_id_hash, dtype: int64\n",
      "\n",
      "Proporción grupo control A: event_name\n",
      "PaymentScreenSuccessful    33.879164\n",
      "Name: device_id_hash, dtype: float64\n",
      "\n",
      "Proporción grupo control B: event_name\n",
      "PaymentScreenSuccessful    33.399209\n",
      "Name: device_id_hash, dtype: float64\n",
      "\n",
      "valor-p: 1.0\n",
      "\n",
      "No se puede rechazar la hipótesis nula\n"
     ]
    }
   ],
   "source": [
    "#Llamar a la función para el evento pantalla de pago exitoso (Grupo B y C)\n",
    "mann_whitney(df, 'PaymentScreenSuccessful', 246, 248)"
   ]
  },
  {
   "cell_type": "markdown",
   "id": "4e41d207",
   "metadata": {},
   "source": [
    "Evento: `pantalla de pago exitoso`\n",
    "\n",
    "- La diferencia de usuarios de ambos grupos es muy mínimo. Sin embargo, hay más usuarios en el `grupo B`.\n",
    "- La proporción del `grupo B` y `grupo C` es `33%`.\n",
    "- A partir de la prueba de hipótesis `no se puede rechazar la hipótesis nula`, es decir: No se puede decir que haya una diferencia estadísticamente significativa entre los grupos `B` y `C`."
   ]
  },
  {
   "cell_type": "code",
   "execution_count": 39,
   "id": "f6089b85",
   "metadata": {},
   "outputs": [
    {
     "name": "stdout",
     "output_type": "stream",
     "text": [
      "Usuarios del grupo A: event_name\n",
      "Tutorial    278\n",
      "Name: device_id_hash, dtype: int64\n",
      "\n",
      "Usuarios del grupo B: event_name\n",
      "Tutorial    282\n",
      "Name: device_id_hash, dtype: int64\n",
      "\n",
      "Proporción grupo control A: event_name\n",
      "Tutorial    32.899408\n",
      "Name: device_id_hash, dtype: float64\n",
      "\n",
      "Proporción grupo control B: event_name\n",
      "Tutorial    33.372781\n",
      "Name: device_id_hash, dtype: float64\n",
      "\n",
      "valor-p: 1.0\n",
      "\n",
      "No se puede rechazar la hipótesis nula\n"
     ]
    }
   ],
   "source": [
    "#Llamar a la función para el evento tutorial (Grupo B y C)\n",
    "mann_whitney(df, 'Tutorial', 246, 248)"
   ]
  },
  {
   "cell_type": "markdown",
   "id": "93729e9f",
   "metadata": {},
   "source": [
    "Evento: `tutorial`\n",
    "\n",
    "- La diferencia de usuarios de ambos grupos es muy mínimo. Sin embargo, hay más usuarios en el `grupo C`.\n",
    "- La proporción del `grupo B` es `32.89%` y del `grupo C` es `33.37%`.\n",
    "- A partir de la prueba de hipótesis `no se puede rechazar la hipótesis nula`, es decir: No se puede decir que haya una diferencia estadísticamente significativa entre los grupos `B` y `C`."
   ]
  },
  {
   "cell_type": "markdown",
   "id": "4c63332f",
   "metadata": {},
   "source": [
    "# Conclusiones"
   ]
  },
  {
   "cell_type": "markdown",
   "id": "04d7a581",
   "metadata": {},
   "source": [
    "Resultados:\n",
    "- Entre los grupos `A y C`, y entre `B y C`, la diferencia en la cantidad de usuarios es casi insignificante.\n",
    "- Ambas proporciones son del `33%` aproximadamente, esto refuerza la idea de que no hay diferencias significativas en el comportamiento de los usuarios entre los grupos\n",
    "- No se encontró evidencia suficiente para afirmar que hay diferencias significativas entre los grupos.\n",
    "\n",
    "Conclusiones: \n",
    "- La falta de diferencias significativas entre los `grupos A y B` sugiere que los grupos de control son consistentes y fiables. Esto es fundamental para asegurar que los datos recogidos son representativos.\n",
    "- Dado que el `grupo de prueba` no mostró una mejora en comparación con los `grupos de control`, se puede concluir que las modificaciones o cambios implementados no tuvieron un impacto positivo en la participación de los usuarios.\n",
    "- El resultado de `no rechazar la hipótesis nula` indica que no hay evidencia de que los cambios en el `grupo C` hayan influido en el comportamiento de los usuarios. Esto es relevante para decisiones futuras sobre si implementar o no el cambio evaluado.\n",
    "\n",
    "La ausencia de diferencias significativas sugiere que el cambio propuesto no tiene un impacto en la participación de los usuarios, lo que lleva a la necesidad de reconsiderar las modificaciones y explorar nuevas hipótesis en el futuro."
   ]
  }
 ],
 "metadata": {
  "ExecuteTimeLog": [
   {
    "duration": 3,
    "start_time": "2024-10-04T17:09:50.510Z"
   },
   {
    "duration": 2260,
    "start_time": "2024-10-04T17:10:16.022Z"
   },
   {
    "duration": 132,
    "start_time": "2024-10-04T17:10:23.828Z"
   },
   {
    "duration": 10,
    "start_time": "2024-10-04T17:10:33.028Z"
   },
   {
    "duration": 15,
    "start_time": "2024-10-04T17:10:40.370Z"
   },
   {
    "duration": 5,
    "start_time": "2024-10-04T17:15:34.019Z"
   },
   {
    "duration": 207,
    "start_time": "2024-10-04T17:15:43.264Z"
   },
   {
    "duration": 5,
    "start_time": "2024-10-04T17:15:53.527Z"
   },
   {
    "duration": 44,
    "start_time": "2024-10-04T17:16:51.138Z"
   },
   {
    "duration": 46,
    "start_time": "2024-10-04T17:17:05.884Z"
   },
   {
    "duration": 79,
    "start_time": "2024-10-04T17:17:17.617Z"
   },
   {
    "duration": 12,
    "start_time": "2024-10-04T17:17:36.751Z"
   },
   {
    "duration": 401,
    "start_time": "2024-10-04T17:17:43.247Z"
   },
   {
    "duration": 114,
    "start_time": "2024-10-04T17:17:52.829Z"
   },
   {
    "duration": 46,
    "start_time": "2024-10-04T17:18:06.254Z"
   },
   {
    "duration": 22,
    "start_time": "2024-10-04T17:18:26.031Z"
   },
   {
    "duration": 8,
    "start_time": "2024-10-04T17:18:46.913Z"
   },
   {
    "duration": 6,
    "start_time": "2024-10-04T17:18:52.809Z"
   },
   {
    "duration": 14,
    "start_time": "2024-10-04T17:19:18.350Z"
   },
   {
    "duration": 31,
    "start_time": "2024-10-04T17:22:05.773Z"
   },
   {
    "duration": 27,
    "start_time": "2024-10-04T17:22:11.925Z"
   },
   {
    "duration": 41,
    "start_time": "2024-10-04T17:23:53.311Z"
   },
   {
    "duration": 23,
    "start_time": "2024-10-04T17:23:58.683Z"
   },
   {
    "duration": 154,
    "start_time": "2024-10-04T17:24:35.563Z"
   },
   {
    "duration": 28,
    "start_time": "2024-10-04T17:24:58.511Z"
   },
   {
    "duration": 5,
    "start_time": "2024-10-04T17:25:47.223Z"
   },
   {
    "duration": 26,
    "start_time": "2024-10-04T17:26:29.519Z"
   },
   {
    "duration": 49,
    "start_time": "2024-10-04T17:28:23.845Z"
   },
   {
    "duration": 42,
    "start_time": "2024-10-04T17:28:30.268Z"
   },
   {
    "duration": 7,
    "start_time": "2024-10-04T17:29:21.071Z"
   },
   {
    "duration": 8,
    "start_time": "2024-10-04T17:30:10.533Z"
   },
   {
    "duration": 23,
    "start_time": "2024-10-04T17:31:45.174Z"
   },
   {
    "duration": 14,
    "start_time": "2024-10-04T17:33:26.912Z"
   },
   {
    "duration": 53,
    "start_time": "2024-10-04T17:36:43.622Z"
   },
   {
    "duration": 31,
    "start_time": "2024-10-04T17:37:01.834Z"
   },
   {
    "duration": 30,
    "start_time": "2024-10-04T17:37:34.630Z"
   },
   {
    "duration": 27,
    "start_time": "2024-10-04T17:37:49.307Z"
   },
   {
    "duration": 54,
    "start_time": "2024-10-04T17:38:38.781Z"
   },
   {
    "duration": 35,
    "start_time": "2024-10-04T17:38:41.415Z"
   },
   {
    "duration": 30,
    "start_time": "2024-10-04T17:38:44.962Z"
   },
   {
    "duration": 27,
    "start_time": "2024-10-04T17:38:49.034Z"
   },
   {
    "duration": 5,
    "start_time": "2024-10-04T17:40:04.132Z"
   },
   {
    "duration": 50,
    "start_time": "2024-10-04T17:40:06.386Z"
   },
   {
    "duration": 20,
    "start_time": "2024-10-04T17:40:29.872Z"
   },
   {
    "duration": 52,
    "start_time": "2024-10-04T17:41:01.467Z"
   },
   {
    "duration": 33,
    "start_time": "2024-10-04T17:41:29.422Z"
   },
   {
    "duration": 31,
    "start_time": "2024-10-04T17:41:47.625Z"
   },
   {
    "duration": 28,
    "start_time": "2024-10-04T17:42:04.978Z"
   },
   {
    "duration": 21,
    "start_time": "2024-10-04T17:42:21.822Z"
   },
   {
    "duration": 51,
    "start_time": "2024-10-04T17:42:44.865Z"
   },
   {
    "duration": 32,
    "start_time": "2024-10-04T17:43:01.171Z"
   },
   {
    "duration": 30,
    "start_time": "2024-10-04T17:43:24.435Z"
   },
   {
    "duration": 27,
    "start_time": "2024-10-04T17:43:45.629Z"
   },
   {
    "duration": 19,
    "start_time": "2024-10-04T17:44:01.997Z"
   },
   {
    "duration": 729,
    "start_time": "2024-10-04T17:44:38.000Z"
   },
   {
    "duration": 102,
    "start_time": "2024-10-04T17:44:38.731Z"
   },
   {
    "duration": 9,
    "start_time": "2024-10-04T17:44:38.835Z"
   },
   {
    "duration": 15,
    "start_time": "2024-10-04T17:44:38.846Z"
   },
   {
    "duration": 5,
    "start_time": "2024-10-04T17:44:38.864Z"
   },
   {
    "duration": 62,
    "start_time": "2024-10-04T17:44:38.871Z"
   },
   {
    "duration": 91,
    "start_time": "2024-10-04T17:44:38.935Z"
   },
   {
    "duration": 11,
    "start_time": "2024-10-04T17:44:39.028Z"
   },
   {
    "duration": 121,
    "start_time": "2024-10-04T17:44:39.041Z"
   },
   {
    "duration": 49,
    "start_time": "2024-10-04T17:44:39.164Z"
   },
   {
    "duration": 24,
    "start_time": "2024-10-04T17:44:39.214Z"
   },
   {
    "duration": 6,
    "start_time": "2024-10-04T17:44:39.239Z"
   },
   {
    "duration": 31,
    "start_time": "2024-10-04T17:44:39.246Z"
   },
   {
    "duration": 22,
    "start_time": "2024-10-04T17:44:39.305Z"
   },
   {
    "duration": 164,
    "start_time": "2024-10-04T17:44:39.328Z"
   },
   {
    "duration": 35,
    "start_time": "2024-10-04T17:44:39.494Z"
   },
   {
    "duration": 5,
    "start_time": "2024-10-04T17:44:39.531Z"
   },
   {
    "duration": 25,
    "start_time": "2024-10-04T17:44:39.538Z"
   },
   {
    "duration": 63,
    "start_time": "2024-10-04T17:44:39.564Z"
   },
   {
    "duration": 8,
    "start_time": "2024-10-04T17:44:39.629Z"
   },
   {
    "duration": 8,
    "start_time": "2024-10-04T17:44:39.638Z"
   },
   {
    "duration": 23,
    "start_time": "2024-10-04T17:44:39.647Z"
   },
   {
    "duration": 42,
    "start_time": "2024-10-04T17:44:39.672Z"
   },
   {
    "duration": 5,
    "start_time": "2024-10-04T17:44:39.716Z"
   },
   {
    "duration": 49,
    "start_time": "2024-10-04T17:44:39.723Z"
   },
   {
    "duration": 47,
    "start_time": "2024-10-04T17:44:39.774Z"
   },
   {
    "duration": 29,
    "start_time": "2024-10-04T17:44:39.822Z"
   },
   {
    "duration": 25,
    "start_time": "2024-10-04T17:44:39.853Z"
   },
   {
    "duration": 35,
    "start_time": "2024-10-04T17:44:39.879Z"
   },
   {
    "duration": 48,
    "start_time": "2024-10-04T17:44:39.917Z"
   },
   {
    "duration": 46,
    "start_time": "2024-10-04T17:44:39.967Z"
   },
   {
    "duration": 28,
    "start_time": "2024-10-04T17:44:40.015Z"
   },
   {
    "duration": 25,
    "start_time": "2024-10-04T17:44:40.045Z"
   },
   {
    "duration": 38,
    "start_time": "2024-10-04T17:44:40.072Z"
   },
   {
    "duration": 48,
    "start_time": "2024-10-04T17:44:40.112Z"
   },
   {
    "duration": 43,
    "start_time": "2024-10-04T17:44:40.162Z"
   },
   {
    "duration": 34,
    "start_time": "2024-10-04T17:44:40.207Z"
   },
   {
    "duration": 26,
    "start_time": "2024-10-04T17:44:40.243Z"
   },
   {
    "duration": 36,
    "start_time": "2024-10-04T17:44:40.271Z"
   }
  ],
  "kernelspec": {
   "display_name": "Python 3 (ipykernel)",
   "language": "python",
   "name": "python3"
  },
  "language_info": {
   "codemirror_mode": {
    "name": "ipython",
    "version": 3
   },
   "file_extension": ".py",
   "mimetype": "text/x-python",
   "name": "python",
   "nbconvert_exporter": "python",
   "pygments_lexer": "ipython3",
   "version": "3.9.19"
  },
  "toc": {
   "base_numbering": 1,
   "nav_menu": {},
   "number_sections": true,
   "sideBar": true,
   "skip_h1_title": true,
   "title_cell": "Table of Contents",
   "title_sidebar": "Contents",
   "toc_cell": false,
   "toc_position": {},
   "toc_section_display": true,
   "toc_window_display": false
  }
 },
 "nbformat": 4,
 "nbformat_minor": 5
}
